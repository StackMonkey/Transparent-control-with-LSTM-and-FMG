{
  "cells": [
    {
      "cell_type": "markdown",
      "metadata": {
        "id": "fVYTx3kwvWKO"
      },
      "source": [
        "**Load and preprocess data**"
      ]
    },
    {
      "cell_type": "code",
      "execution_count": 1,
      "metadata": {
        "id": "mKDyWfn_VFTC"
      },
      "outputs": [],
      "source": [
        "import pandas as pd\n",
        "import numpy as np\n",
        "import seaborn as sns\n",
        "import matplotlib.pyplot as plt\n",
        "from sklearn.model_selection import train_test_split\n",
        "from sklearn.model_selection import KFold\n",
        "from sklearn.preprocessing import StandardScaler\n",
        "from sklearn.metrics import accuracy_score, confusion_matrix\n",
        "from sklearn.metrics import ConfusionMatrixDisplay\n",
        "from tensorflow import keras\n",
        "from tensorflow.keras.callbacks import TensorBoard, ModelCheckpoint\n",
        "from sklearn.metrics import confusion_matrix\n",
        "\n",
        "\n",
        "### Load data\n",
        "\n",
        "data = []\n",
        "# \"Rest\" data\n",
        "data.append( [pd.read_excel(\"C:/Users/malth/Documents/GitHub/Transparent-control-with-LSTM-and-FMG/DNN weight Classifier/FMG band Data collector/FMG Armband code and data/FMGdata/LouisFMGdata/LouisLoadRest/dataLouisLoadRest0001.xls\",header=None), 0])\n",
        "data.append( [pd.read_excel(\"C:/Users/malth/Documents/GitHub/Transparent-control-with-LSTM-and-FMG/DNN weight Classifier/FMG band Data collector/FMG Armband code and data/FMGdata/LouisFMGdata/LouisLoadRest/dataLouisLoadRest0002.xls\",header=None), 0])\n",
        "data.append( [pd.read_excel(\"C:/Users/malth/Documents/GitHub/Transparent-control-with-LSTM-and-FMG/DNN weight Classifier/FMG band Data collector/FMG Armband code and data/FMGdata/MaltheFMGdata/MaltheLoadRest/dataMaltheLoadRest0001.xls\",header=None), 0])\n",
        "data.append( [pd.read_excel(\"C:/Users/malth/Documents/GitHub/Transparent-control-with-LSTM-and-FMG/DNN weight Classifier/FMG band Data collector/FMG Armband code and data/FMGdata/MaltheFMGdata/MaltheLoadRest/dataMaltheLoadRest0002.xls\",header=None), 0])\n",
        "data.append( [pd.read_excel(\"C:/Users/malth/Documents/GitHub/Transparent-control-with-LSTM-and-FMG/DNN weight Classifier/FMG band Data collector/FMG Armband code and data/FMGdata/NickFMGdata/NickNoLoadRest/dataNickNoLoadRest0001.xls\",header=None), 0])\n",
        "data.append( [pd.read_excel(\"C:/Users/malth/Documents/GitHub/Transparent-control-with-LSTM-and-FMG/DNN weight Classifier/FMG band Data collector/FMG Armband code and data/FMGdata/NickFMGdata/NickNoLoadRest/dataNickNoLoadRest0002.xls\",header=None), 0])\n",
        "data.append( [pd.read_excel(\"C:/Users/malth/Documents/GitHub/Transparent-control-with-LSTM-and-FMG/DNN weight Classifier/FMG band Data collector/FMG Armband code and data/FMGdata/NickFMGdata/NickNoLoadRest/dataNickNoLoadRest0003.xls\",header=None), 0])\n",
        "\n",
        "# No-load flexed data\n",
        "data.append( [pd.read_excel(\"C:/Users/malth/Documents/GitHub/Transparent-control-with-LSTM-and-FMG/DNN weight Classifier/FMG band Data collector/FMG Armband code and data/FMGdata/LouisFMGdata/LouisNoLoadFlexed/dataLouisNoLoadFlexed0001.xls\",header=None), 1])\n",
        "data.append( [pd.read_excel(\"C:/Users/malth/Documents/GitHub/Transparent-control-with-LSTM-and-FMG/DNN weight Classifier/FMG band Data collector/FMG Armband code and data/FMGdata/LouisFMGdata/LouisNoLoadFlexed/dataLouisNoLoadFlexed0002.xls\",header=None), 1])\n",
        "data.append( [pd.read_excel(\"C:/Users/malth/Documents/GitHub/Transparent-control-with-LSTM-and-FMG/DNN weight Classifier/FMG band Data collector/FMG Armband code and data/FMGdata/MaltheFMGdata/MaltheNoLoadFlexed/dataMaltheNoLoadFlexed0001.xls\",header=None), 1])\n",
        "data.append( [pd.read_excel(\"C:/Users/malth/Documents/GitHub/Transparent-control-with-LSTM-and-FMG/DNN weight Classifier/FMG band Data collector/FMG Armband code and data/FMGdata/MaltheFMGdata/MaltheNoLoadFlexed/dataMaltheNoLoadFlexed0002.xls\",header=None), 1])\n",
        "data.append( [pd.read_excel(\"C:/Users/malth/Documents/GitHub/Transparent-control-with-LSTM-and-FMG/DNN weight Classifier/FMG band Data collector/FMG Armband code and data/FMGdata/NickFMGdata/NickNoLoadFlexed/dataNickNoLoadFlexed0001.xls\",header=None), 1])\n",
        "data.append( [pd.read_excel(\"C:/Users/malth/Documents/GitHub/Transparent-control-with-LSTM-and-FMG/DNN weight Classifier/FMG band Data collector/FMG Armband code and data/FMGdata/NickFMGdata/NickNoLoadFlexed/dataNickNoLoadFlexed0002.xls\",header=None), 1])\n",
        "data.append( [pd.read_excel(\"C:/Users/malth/Documents/GitHub/Transparent-control-with-LSTM-and-FMG/DNN weight Classifier/FMG band Data collector/FMG Armband code and data/FMGdata/NickFMGdata/NickNoLoadFlexed/dataNickNoLoadFlexed0003.xls\",header=None), 1])\n",
        "\n",
        "# Load 1 flexed data\n",
        "data.append( [pd.read_excel(\"C:/Users/malth/Documents/GitHub/Transparent-control-with-LSTM-and-FMG/DNN weight Classifier/FMG band Data collector/FMG Armband code and data/FMGdata/LouisFMGdata/LouisLoadFlexed/dataLouisLoadFlexed0001.xls\",header=None), 2])\n",
        "data.append( [pd.read_excel(\"C:/Users/malth/Documents/GitHub/Transparent-control-with-LSTM-and-FMG/DNN weight Classifier/FMG band Data collector/FMG Armband code and data/FMGdata/LouisFMGdata/LouisLoadFlexed/dataLouisLoadFlexed0002.xls\",header=None), 2])\n",
        "data.append( [pd.read_excel(\"C:/Users/malth/Documents/GitHub/Transparent-control-with-LSTM-and-FMG/DNN weight Classifier/FMG band Data collector/FMG Armband code and data/FMGdata/MaltheFMGdata/MaltheLoadFlexed/dataMaltheLoadFlexed0001.xls\",header=None), 2])\n",
        "data.append( [pd.read_excel(\"C:/Users/malth/Documents/GitHub/Transparent-control-with-LSTM-and-FMG/DNN weight Classifier/FMG band Data collector/FMG Armband code and data/FMGdata/MaltheFMGdata/MaltheLoadFlexed/dataMaltheLoadFlexed0002.xls\",header=None), 2])\n",
        "data.append( [pd.read_excel(\"C:/Users/malth/Documents/GitHub/Transparent-control-with-LSTM-and-FMG/DNN weight Classifier/FMG band Data collector/FMG Armband code and data/FMGdata/NickFMGdata/NickLoadFlexed/dataNickLoadFlexed0001.xls\",header=None), 2])\n",
        "data.append( [pd.read_excel(\"C:/Users/malth/Documents/GitHub/Transparent-control-with-LSTM-and-FMG/DNN weight Classifier/FMG band Data collector/FMG Armband code and data/FMGdata/NickFMGdata/NickLoadFlexed/dataNickLoadFlexed0002.xls\",header=None), 2])\n",
        "data.append( [pd.read_excel(\"C:/Users/malth/Documents/GitHub/Transparent-control-with-LSTM-and-FMG/DNN weight Classifier/FMG band Data collector/FMG Armband code and data/FMGdata/NickFMGdata/NickLoadFlexed/dataNickLoadFlexed0003.xls\",header=None), 2])\n",
        "\n",
        "# Load 2 (large load) flexed data\n",
        "data.append( [pd.read_excel(\"C:/Users/malth/Documents/GitHub/Transparent-control-with-LSTM-and-FMG/DNN weight Classifier/FMG band Data collector/FMG Armband code and data/FMGdata/LouisFMGdata/LouisLargeLoadFlexed/dataLouisLargePayload0001.xls\",header=None), 3])\n",
        "data.append( [pd.read_excel(\"C:/Users/malth/Documents/GitHub/Transparent-control-with-LSTM-and-FMG/DNN weight Classifier/FMG band Data collector/FMG Armband code and data/FMGdata/LouisFMGdata/LouisLargeLoadFlexed/dataLouisLargePayload0002.xls\",header=None), 3])\n",
        "data.append( [pd.read_excel(\"C:/Users/malth/Documents/GitHub/Transparent-control-with-LSTM-and-FMG/DNN weight Classifier/FMG band Data collector/FMG Armband code and data/FMGdata/MaltheFMGdata/MaltheLargePayload/MaltheLargeLoadFlexed/dataMaltheLargeLoadfsrFlexed0001.xls\",header=None), 3])\n",
        "data.append( [pd.read_excel(\"C:/Users/malth/Documents/GitHub/Transparent-control-with-LSTM-and-FMG/DNN weight Classifier/FMG band Data collector/FMG Armband code and data/FMGdata/MaltheFMGdata/MaltheLargePayload/MaltheLargeLoadFlexed/dataMaltheLargeLoadfsrFlexed0002.xls\",header=None), 3])\n",
        "data.append( [pd.read_excel(\"C:/Users/malth/Documents/GitHub/Transparent-control-with-LSTM-and-FMG/DNN weight Classifier/FMG band Data collector/FMG Armband code and data/FMGdata/NickFMGdata/NickLargeLoadFlexed/dataNickLargePayload0001.xls\",header=None), 3])\n",
        "data.append( [pd.read_excel(\"C:/Users/malth/Documents/GitHub/Transparent-control-with-LSTM-and-FMG/DNN weight Classifier/FMG band Data collector/FMG Armband code and data/FMGdata/NickFMGdata/NickLargeLoadFlexed/dataNickLargePayload0002.xls\",header=None), 3])\n",
        "data.append( [pd.read_excel(\"C:/Users/malth/Documents/GitHub/Transparent-control-with-LSTM-and-FMG/DNN weight Classifier/FMG band Data collector/FMG Armband code and data/FMGdata/NickFMGdata/NickLargeLoadFlexed/dataNickLargePayload0003.xls\",header=None), 3])"
      ]
    },
    {
      "cell_type": "markdown",
      "metadata": {
        "id": "K9MyM8f52ruR"
      },
      "source": [
        "**Combine and shuffle data**"
      ]
    },
    {
      "cell_type": "code",
      "execution_count": 2,
      "metadata": {
        "id": "nMfOz14c76c5"
      },
      "outputs": [],
      "source": [
        "# Combine into a single DataFrame\n",
        "## Separate Data and labels\n",
        "datax = [dat[0] for dat in data]\n",
        "labels = [lab[1] for lab in data]\n",
        "\n",
        "# Assign labels to dataframe\n",
        "for i in range(len(datax)):\n",
        "  datax[i]['label'] = labels[i]\n",
        "\n",
        "datax = pd.concat(datax, ignore_index=True)\n",
        "\n",
        "\n",
        "# Shuffle the data\n",
        "datax = datax.sample(frac=1).reset_index(drop=True)\n",
        "\n",
        "### Preprocess the datax\n",
        "features = datax.drop('label', axis=1)\n",
        "labels = datax['label']\n",
        "\n",
        "# Normalize features\n",
        "scaler = StandardScaler()\n",
        "features = scaler.fit_transform(features)"
      ]
    },
    {
      "cell_type": "markdown",
      "metadata": {
        "id": "pC_Nk0Qhv2iC"
      },
      "source": [
        "**Split and normalise data**\n",
        "\n",
        "Split the data into initial test and training and then split into k-fold splits, essentially evaluating the data twice. Compare cross validated data with final tested data. Big difference is bad -> overfitting. Small difference is good --> unbiased fitting of model."
      ]
    },
    {
      "cell_type": "code",
      "execution_count": 3,
      "metadata": {
        "id": "bFUHA0R0v0Rr"
      },
      "outputs": [],
      "source": [
        "# Split the data\n",
        "x_train, x_test, y_train, y_test = train_test_split(features, labels, test_size=0.3, random_state=42)\n",
        "\n",
        "# Normalisation of data\n",
        "mean_cols = np.mean(x_train, axis=0)\n",
        "std_cols = np.std(x_train, axis=0)\n",
        "                                                          # Normalization: mean = 0 and std = 1\n",
        "X_train_norm_1 = (x_train - mean_cols)/std_cols         # Training set mean and std will be used for test normalization\n",
        "X_test_norm_1 = (x_test - mean_cols)/std_cols           # Each column will have mean = 0 and std = 1\n",
        "\n",
        "# SOMI are following 4 lines\n",
        "X_train_sort = np.sort(X_train_norm_1, axis=1,)\n",
        "X_test_sort = np.sort(X_test_norm_1, axis=1)\n",
        "X_train_norm = X_train_sort/np.max(abs(X_train_sort), axis = 1)[:,None]\n",
        "X_test_norm = X_test_sort/np.max(abs(X_test_sort), axis = 1)[:,None]\n",
        "x_train=X_train_norm\n",
        "x_test=X_test_norm\n",
        "\n",
        "# Convert labels to one-hot encoding\n",
        "y_train = keras.utils.to_categorical(y_train, num_classes=4)\n",
        "y_test = keras.utils.to_categorical(y_test, num_classes=4)"
      ]
    },
    {
      "cell_type": "markdown",
      "metadata": {
        "id": "r80t4YQKyCmS"
      },
      "source": [
        "**Train and cross validate data**"
      ]
    },
    {
      "cell_type": "code",
      "execution_count": 4,
      "metadata": {
        "colab": {
          "base_uri": "https://localhost:8080/"
        },
        "id": "yhbFOJbnwKhA",
        "outputId": "64326c19-5c8b-4153-e77a-2a22c6217d50"
      },
      "outputs": [
        {
          "name": "stderr",
          "output_type": "stream",
          "text": [
            "C:\\Users\\malth\\AppData\\Local\\Packages\\PythonSoftwareFoundation.Python.3.10_qbz5n2kfra8p0\\LocalCache\\local-packages\\Python310\\site-packages\\keras\\src\\layers\\core\\dense.py:87: UserWarning: Do not pass an `input_shape`/`input_dim` argument to a layer. When using Sequential models, prefer using an `Input(shape)` object as the first layer in the model instead.\n",
            "  super().__init__(activity_regularizer=activity_regularizer, **kwargs)\n"
          ]
        },
        {
          "name": "stdout",
          "output_type": "stream",
          "text": [
            "Epoch 1/5\n",
            "\u001b[1m588/588\u001b[0m \u001b[32m━━━━━━━━━━━━━━━━━━━━\u001b[0m\u001b[37m\u001b[0m \u001b[1m3s\u001b[0m 3ms/step - accuracy: 0.7579 - loss: 0.6099 - val_accuracy: 0.9469 - val_loss: 0.1541\n",
            "Epoch 2/5\n",
            "\u001b[1m588/588\u001b[0m \u001b[32m━━━━━━━━━━━━━━━━━━━━\u001b[0m\u001b[37m\u001b[0m \u001b[1m2s\u001b[0m 3ms/step - accuracy: 0.9520 - loss: 0.1329 - val_accuracy: 0.9866 - val_loss: 0.0558\n",
            "Epoch 3/5\n",
            "\u001b[1m588/588\u001b[0m \u001b[32m━━━━━━━━━━━━━━━━━━━━\u001b[0m\u001b[37m\u001b[0m \u001b[1m2s\u001b[0m 4ms/step - accuracy: 0.9822 - loss: 0.0618 - val_accuracy: 0.9890 - val_loss: 0.0380\n",
            "Epoch 4/5\n",
            "\u001b[1m588/588\u001b[0m \u001b[32m━━━━━━━━━━━━━━━━━━━━\u001b[0m\u001b[37m\u001b[0m \u001b[1m2s\u001b[0m 3ms/step - accuracy: 0.9878 - loss: 0.0428 - val_accuracy: 0.9890 - val_loss: 0.0394\n",
            "Epoch 5/5\n",
            "\u001b[1m588/588\u001b[0m \u001b[32m━━━━━━━━━━━━━━━━━━━━\u001b[0m\u001b[37m\u001b[0m \u001b[1m3s\u001b[0m 6ms/step - accuracy: 0.9865 - loss: 0.0463 - val_accuracy: 0.9866 - val_loss: 0.0429\n",
            "\u001b[1m164/164\u001b[0m \u001b[32m━━━━━━━━━━━━━━━━━━━━\u001b[0m\u001b[37m\u001b[0m \u001b[1m0s\u001b[0m 2ms/step - accuracy: 0.9882 - loss: 0.0349\n",
            "Epoch 1/5\n",
            "\u001b[1m588/588\u001b[0m \u001b[32m━━━━━━━━━━━━━━━━━━━━\u001b[0m\u001b[37m\u001b[0m \u001b[1m5s\u001b[0m 5ms/step - accuracy: 0.7551 - loss: 0.6060 - val_accuracy: 0.9493 - val_loss: 0.1322\n",
            "Epoch 2/5\n",
            "\u001b[1m588/588\u001b[0m \u001b[32m━━━━━━━━━━━━━━━━━━━━\u001b[0m\u001b[37m\u001b[0m \u001b[1m3s\u001b[0m 4ms/step - accuracy: 0.9442 - loss: 0.1404 - val_accuracy: 0.9856 - val_loss: 0.0701\n",
            "Epoch 3/5\n",
            "\u001b[1m588/588\u001b[0m \u001b[32m━━━━━━━━━━━━━━━━━━━━\u001b[0m\u001b[37m\u001b[0m \u001b[1m2s\u001b[0m 4ms/step - accuracy: 0.9687 - loss: 0.0875 - val_accuracy: 0.9694 - val_loss: 0.0784\n",
            "Epoch 4/5\n",
            "\u001b[1m588/588\u001b[0m \u001b[32m━━━━━━━━━━━━━━━━━━━━\u001b[0m\u001b[37m\u001b[0m \u001b[1m2s\u001b[0m 4ms/step - accuracy: 0.9870 - loss: 0.0465 - val_accuracy: 0.9904 - val_loss: 0.0317\n",
            "Epoch 5/5\n",
            "\u001b[1m588/588\u001b[0m \u001b[32m━━━━━━━━━━━━━━━━━━━━\u001b[0m\u001b[37m\u001b[0m \u001b[1m2s\u001b[0m 4ms/step - accuracy: 0.9922 - loss: 0.0300 - val_accuracy: 0.9598 - val_loss: 0.0976\n",
            "\u001b[1m164/164\u001b[0m \u001b[32m━━━━━━━━━━━━━━━━━━━━\u001b[0m\u001b[37m\u001b[0m \u001b[1m0s\u001b[0m 2ms/step - accuracy: 0.9667 - loss: 0.0820\n",
            "Epoch 1/5\n",
            "\u001b[1m588/588\u001b[0m \u001b[32m━━━━━━━━━━━━━━━━━━━━\u001b[0m\u001b[37m\u001b[0m \u001b[1m5s\u001b[0m 4ms/step - accuracy: 0.7540 - loss: 0.6159 - val_accuracy: 0.9483 - val_loss: 0.1484\n",
            "Epoch 2/5\n",
            "\u001b[1m588/588\u001b[0m \u001b[32m━━━━━━━━━━━━━━━━━━━━\u001b[0m\u001b[37m\u001b[0m \u001b[1m2s\u001b[0m 4ms/step - accuracy: 0.9546 - loss: 0.1233 - val_accuracy: 0.9545 - val_loss: 0.1176\n",
            "Epoch 3/5\n",
            "\u001b[1m588/588\u001b[0m \u001b[32m━━━━━━━━━━━━━━━━━━━━\u001b[0m\u001b[37m\u001b[0m \u001b[1m2s\u001b[0m 4ms/step - accuracy: 0.9791 - loss: 0.0722 - val_accuracy: 0.9885 - val_loss: 0.0399\n",
            "Epoch 4/5\n",
            "\u001b[1m588/588\u001b[0m \u001b[32m━━━━━━━━━━━━━━━━━━━━\u001b[0m\u001b[37m\u001b[0m \u001b[1m2s\u001b[0m 4ms/step - accuracy: 0.9889 - loss: 0.0440 - val_accuracy: 0.9904 - val_loss: 0.0334\n",
            "Epoch 5/5\n",
            "\u001b[1m588/588\u001b[0m \u001b[32m━━━━━━━━━━━━━━━━━━━━\u001b[0m\u001b[37m\u001b[0m \u001b[1m2s\u001b[0m 4ms/step - accuracy: 0.9878 - loss: 0.0432 - val_accuracy: 0.9938 - val_loss: 0.0248\n",
            "\u001b[1m164/164\u001b[0m \u001b[32m━━━━━━━━━━━━━━━━━━━━\u001b[0m\u001b[37m\u001b[0m \u001b[1m0s\u001b[0m 2ms/step - accuracy: 0.9958 - loss: 0.0182\n",
            "Epoch 1/5\n",
            "\u001b[1m588/588\u001b[0m \u001b[32m━━━━━━━━━━━━━━━━━━━━\u001b[0m\u001b[37m\u001b[0m \u001b[1m4s\u001b[0m 4ms/step - accuracy: 0.7347 - loss: 0.6199 - val_accuracy: 0.9488 - val_loss: 0.1214\n",
            "Epoch 2/5\n",
            "\u001b[1m588/588\u001b[0m \u001b[32m━━━━━━━━━━━━━━━━━━━━\u001b[0m\u001b[37m\u001b[0m \u001b[1m2s\u001b[0m 4ms/step - accuracy: 0.9505 - loss: 0.1253 - val_accuracy: 0.9651 - val_loss: 0.0896\n",
            "Epoch 3/5\n",
            "\u001b[1m588/588\u001b[0m \u001b[32m━━━━━━━━━━━━━━━━━━━━\u001b[0m\u001b[37m\u001b[0m \u001b[1m2s\u001b[0m 4ms/step - accuracy: 0.9747 - loss: 0.0796 - val_accuracy: 0.9871 - val_loss: 0.0512\n",
            "Epoch 4/5\n",
            "\u001b[1m588/588\u001b[0m \u001b[32m━━━━━━━━━━━━━━━━━━━━\u001b[0m\u001b[37m\u001b[0m \u001b[1m3s\u001b[0m 4ms/step - accuracy: 0.9895 - loss: 0.0414 - val_accuracy: 0.9871 - val_loss: 0.0525\n",
            "Epoch 5/5\n",
            "\u001b[1m588/588\u001b[0m \u001b[32m━━━━━━━━━━━━━━━━━━━━\u001b[0m\u001b[37m\u001b[0m \u001b[1m3s\u001b[0m 5ms/step - accuracy: 0.9911 - loss: 0.0323 - val_accuracy: 0.9871 - val_loss: 0.0496\n",
            "\u001b[1m164/164\u001b[0m \u001b[32m━━━━━━━━━━━━━━━━━━━━\u001b[0m\u001b[37m\u001b[0m \u001b[1m0s\u001b[0m 2ms/step - accuracy: 0.9915 - loss: 0.0344\n",
            "Epoch 1/5\n",
            "\u001b[1m588/588\u001b[0m \u001b[32m━━━━━━━━━━━━━━━━━━━━\u001b[0m\u001b[37m\u001b[0m \u001b[1m5s\u001b[0m 4ms/step - accuracy: 0.7521 - loss: 0.6341 - val_accuracy: 0.9502 - val_loss: 0.1343\n",
            "Epoch 2/5\n",
            "\u001b[1m588/588\u001b[0m \u001b[32m━━━━━━━━━━━━━━━━━━━━\u001b[0m\u001b[37m\u001b[0m \u001b[1m3s\u001b[0m 4ms/step - accuracy: 0.9437 - loss: 0.1443 - val_accuracy: 0.9780 - val_loss: 0.0803\n",
            "Epoch 3/5\n",
            "\u001b[1m588/588\u001b[0m \u001b[32m━━━━━━━━━━━━━━━━━━━━\u001b[0m\u001b[37m\u001b[0m \u001b[1m3s\u001b[0m 6ms/step - accuracy: 0.9781 - loss: 0.0711 - val_accuracy: 0.9923 - val_loss: 0.0317\n",
            "Epoch 4/5\n",
            "\u001b[1m588/588\u001b[0m \u001b[32m━━━━━━━━━━━━━━━━━━━━\u001b[0m\u001b[37m\u001b[0m \u001b[1m3s\u001b[0m 6ms/step - accuracy: 0.9847 - loss: 0.0515 - val_accuracy: 0.9923 - val_loss: 0.0285\n",
            "Epoch 5/5\n",
            "\u001b[1m588/588\u001b[0m \u001b[32m━━━━━━━━━━━━━━━━━━━━\u001b[0m\u001b[37m\u001b[0m \u001b[1m3s\u001b[0m 5ms/step - accuracy: 0.9923 - loss: 0.0315 - val_accuracy: 0.9895 - val_loss: 0.0674\n",
            "\u001b[1m164/164\u001b[0m \u001b[32m━━━━━━━━━━━━━━━━━━━━\u001b[0m\u001b[37m\u001b[0m \u001b[1m0s\u001b[0m 1ms/step - accuracy: 0.9817 - loss: 0.0751\n",
            "Accuracy values: [0.9888910055160522, 0.9620762467384338, 0.9950200915336609, 0.99042147397995, 0.9839080572128296]\n",
            "Loss values: [0.033789731562137604, 0.09280715137720108, 0.022105157375335693, 0.03765690699219704, 0.07163984328508377]\n",
            "Average Accuracy: 0.9841\n",
            "Average Loss: 0.0516\n"
          ]
        }
      ],
      "source": [
        "### Model\n",
        "def create_model():\n",
        "    model = keras.Sequential([\n",
        "        keras.layers.Dense(512, activation='relu', input_dim=8),\n",
        "        keras.layers.Dense(256, activation='relu'),\n",
        "        keras.layers.Dense(128, activation='relu'),\n",
        "        keras.layers.Dense(32, activation='relu'),\n",
        "        keras.layers.Dense(4, activation='softmax')\n",
        "    ])\n",
        "    # Compile the model with a lower learning rate and gradient clipping\n",
        "    optimizer = keras.optimizers.Adam(learning_rate=0.001, clipvalue=1.0)\n",
        "    model.compile(optimizer=optimizer, loss='categorical_crossentropy', metrics=['accuracy'])\n",
        "    return model\n",
        "\n",
        "# Setup callbacks for monitoring\n",
        "callbacks = [\n",
        "    TensorBoard(log_dir='./logs'),\n",
        "    ModelCheckpoint(filepath='model.{epoch:02d}-{val_loss:.2f}.keras')\n",
        "]\n",
        "\n",
        "# Initialize k-fold cross-validation\n",
        "kf = KFold(n_splits=5)\n",
        "\n",
        "# Initialize list to store accuracy scores\n",
        "accuracy_scores = []\n",
        "loss_scores = []\n",
        "\n",
        "# Iterate through each fold\n",
        "for train_index, test_index in kf.split(x_train):\n",
        "    X_train, X_test = x_train[train_index], x_train[test_index]\n",
        "    Y_train, Y_test = y_train[train_index], y_train[test_index]\n",
        "\n",
        "    # Create instance of the model\n",
        "    model = create_model()\n",
        "\n",
        "    # Train the model\n",
        "    model.fit(X_train, Y_train, epochs=5, validation_split=0.1, callbacks=callbacks)\n",
        "\n",
        "    # Predict on the test set\n",
        "    #y_predicted = np.argmax(model.predict(x_test),axis=1)\n",
        "    #y_test_= np.argmax(y_test,axis=1)\n",
        "\n",
        "    # Calculate accuracy and store it\n",
        "    loss, accuracy = model.evaluate(X_test, Y_test)\n",
        "\n",
        "    accuracy_scores.append(accuracy)\n",
        "    loss_scores.append(loss)\n",
        "\n",
        "# Display accuracy and loss values\n",
        "print(\"Accuracy values:\", accuracy_scores)\n",
        "print(\"Loss values:\", loss_scores)\n",
        "\n",
        "# Display average accuracy and loss\n",
        "avg_accuracy = np.mean(accuracy_scores)\n",
        "print(f\"Average Accuracy: {avg_accuracy:.4f}\")\n",
        "\n",
        "avg_loss = np.mean(loss_scores)\n",
        "print(f\"Average Loss: {avg_loss:.4f}\")"
      ]
    },
    {
      "cell_type": "markdown",
      "metadata": {
        "id": "hF6L8SaAC-Sn"
      },
      "source": [
        "**Train model on original test data**"
      ]
    },
    {
      "cell_type": "code",
      "execution_count": 5,
      "metadata": {
        "colab": {
          "base_uri": "https://localhost:8080/"
        },
        "id": "ljzEwk1CAry-",
        "outputId": "ddc6dd8c-d56b-48a3-d8b1-3ce6623f1b3b"
      },
      "outputs": [
        {
          "name": "stdout",
          "output_type": "stream",
          "text": [
            "Epoch 1/10\n",
            "\u001b[1m735/735\u001b[0m \u001b[32m━━━━━━━━━━━━━━━━━━━━\u001b[0m\u001b[37m\u001b[0m \u001b[1m5s\u001b[0m 4ms/step - accuracy: 0.7589 - loss: 0.5998 - val_accuracy: 0.9422 - val_loss: 0.1343\n",
            "Epoch 2/10\n",
            "\u001b[1m735/735\u001b[0m \u001b[32m━━━━━━━━━━━━━━━━━━━━\u001b[0m\u001b[37m\u001b[0m \u001b[1m4s\u001b[0m 5ms/step - accuracy: 0.9601 - loss: 0.1175 - val_accuracy: 0.9701 - val_loss: 0.0713\n",
            "Epoch 3/10\n",
            "\u001b[1m735/735\u001b[0m \u001b[32m━━━━━━━━━━━━━━━━━━━━\u001b[0m\u001b[37m\u001b[0m \u001b[1m4s\u001b[0m 5ms/step - accuracy: 0.9824 - loss: 0.0580 - val_accuracy: 0.9866 - val_loss: 0.0423\n",
            "Epoch 4/10\n",
            "\u001b[1m735/735\u001b[0m \u001b[32m━━━━━━━━━━━━━━━━━━━━\u001b[0m\u001b[37m\u001b[0m \u001b[1m3s\u001b[0m 4ms/step - accuracy: 0.9859 - loss: 0.0465 - val_accuracy: 0.9897 - val_loss: 0.0356\n",
            "Epoch 5/10\n",
            "\u001b[1m735/735\u001b[0m \u001b[32m━━━━━━━━━━━━━━━━━━━━\u001b[0m\u001b[37m\u001b[0m \u001b[1m3s\u001b[0m 4ms/step - accuracy: 0.9789 - loss: 0.0673 - val_accuracy: 0.9939 - val_loss: 0.0223\n",
            "Epoch 6/10\n",
            "\u001b[1m735/735\u001b[0m \u001b[32m━━━━━━━━━━━━━━━━━━━━\u001b[0m\u001b[37m\u001b[0m \u001b[1m3s\u001b[0m 4ms/step - accuracy: 0.9903 - loss: 0.0305 - val_accuracy: 0.9912 - val_loss: 0.0303\n",
            "Epoch 7/10\n",
            "\u001b[1m735/735\u001b[0m \u001b[32m━━━━━━━━━━━━━━━━━━━━\u001b[0m\u001b[37m\u001b[0m \u001b[1m3s\u001b[0m 4ms/step - accuracy: 0.9906 - loss: 0.0346 - val_accuracy: 0.9931 - val_loss: 0.0233\n",
            "Epoch 8/10\n",
            "\u001b[1m735/735\u001b[0m \u001b[32m━━━━━━━━━━━━━━━━━━━━\u001b[0m\u001b[37m\u001b[0m \u001b[1m3s\u001b[0m 4ms/step - accuracy: 0.9909 - loss: 0.0320 - val_accuracy: 0.9916 - val_loss: 0.0298\n",
            "Epoch 9/10\n",
            "\u001b[1m735/735\u001b[0m \u001b[32m━━━━━━━━━━━━━━━━━━━━\u001b[0m\u001b[37m\u001b[0m \u001b[1m3s\u001b[0m 3ms/step - accuracy: 0.9907 - loss: 0.0305 - val_accuracy: 0.9927 - val_loss: 0.0287\n",
            "Epoch 10/10\n",
            "\u001b[1m735/735\u001b[0m \u001b[32m━━━━━━━━━━━━━━━━━━━━\u001b[0m\u001b[37m\u001b[0m \u001b[1m2s\u001b[0m 3ms/step - accuracy: 0.9938 - loss: 0.0232 - val_accuracy: 0.9946 - val_loss: 0.0191\n",
            "\u001b[1m350/350\u001b[0m \u001b[32m━━━━━━━━━━━━━━━━━━━━\u001b[0m\u001b[37m\u001b[0m \u001b[1m1s\u001b[0m 2ms/step - accuracy: 0.9952 - loss: 0.0197\n",
            "Test loss: 0.0220, Test accuracy: 0.9945\n"
          ]
        }
      ],
      "source": [
        "# Create instance of the model\n",
        "model = create_model()\n",
        "\n",
        "# Train the model\n",
        "model.fit(x_train, y_train, epochs=10, validation_split=0.1, callbacks=callbacks)\n",
        "\n",
        "# Calculate accuracy and loss\n",
        "loss, accuracy = model.evaluate(x_test, y_test)\n",
        "print(f\"Test loss: {loss:.4f}, Test accuracy: {accuracy:.4f}\")\n"
      ]
    },
    {
      "cell_type": "markdown",
      "metadata": {
        "id": "1kP82NFJyTba"
      },
      "source": [
        "**Evaluate model**"
      ]
    },
    {
      "cell_type": "code",
      "execution_count": 6,
      "metadata": {
        "colab": {
          "base_uri": "https://localhost:8080/",
          "height": 735
        },
        "id": "QW6Tauba1LqZ",
        "outputId": "5513b8f8-59e2-4e1b-b891-e57d2e7dc513"
      },
      "outputs": [
        {
          "name": "stdout",
          "output_type": "stream",
          "text": [
            "\u001b[1m350/350\u001b[0m \u001b[32m━━━━━━━━━━━━━━━━━━━━\u001b[0m\u001b[37m\u001b[0m \u001b[1m1s\u001b[0m 1ms/step\n"
          ]
        },
        {
          "data": {
            "image/png": "[encoded data removed]",
            "text/plain": [
              "<Figure size 1000x800 with 2 Axes>"
            ]
          },
          "metadata": {},
          "output_type": "display_data"
        }
      ],
      "source": [
        "# Predicting the labels for the test set\n",
        "y_predicted = np.argmax(model.predict(x_test), axis=1)\n",
        "y_test_ = np.argmax(y_test, axis=1)\n",
        "\n",
        "# Generating the confusion matrix\n",
        "cm = confusion_matrix(y_test_, y_predicted, normalize='true')\n",
        "\n",
        "# Convert to percentage\n",
        "cm_percentage = cm * 100\n",
        "\n",
        "sns.set(font_scale=1.5)\n",
        "\n",
        "# Plotting the confusion matrix\n",
        "plt.figure(figsize=(10, 8))\n",
        "sns.heatmap(cm_percentage, annot=True, fmt=\".2f\", cmap=\"viridis\", xticklabels=['R', 'NL', 'L1', 'L2'], yticklabels=['R', 'NL', 'L1', 'L2'])\n",
        "plt.xlabel('Predicted label')\n",
        "plt.ylabel('True label')\n",
        "#plt.title('Normalized Confusion Matrix (Percentage)')\n",
        "plt.savefig('ConfusionMatrix4class.svg', format='svg')\n",
        "plt.show()"
      ]
    },
    {
      "cell_type": "code",
      "execution_count": 37,
      "metadata": {},
      "outputs": [
        {
          "name": "stdout",
          "output_type": "stream",
          "text": [
            "[('70:A6:CC:5F:8A:3D', 'AAU135046'), ('FC:F5:C4:0F:27:72', 'BIOX_AAL_Band_2772'), ('00:16:A4:69:D0:4C', 'Stratos MAXO 25/0,5-6-R7')]\n"
          ]
        }
      ],
      "source": [
        "import time\n",
        "import bluetooth, subprocess\n",
        "nearby_devices = bluetooth.discover_devices(duration=4,lookup_names=True,flush_cache=True, lookup_class=False)\n",
        "print(nearby_devices)"
      ]
    },
    {
      "cell_type": "code",
      "execution_count": 41,
      "metadata": {},
      "outputs": [],
      "source": [
        "name = \"BIOX_AAL_Band_2772\"     # Device name\n",
        "addr = 'FC:F5:C4:0F:27:72'      # Device Address\n",
        "port = 1        # RFCOMM port\n",
        "\n",
        "# kill any \"bluetooth-agent\" process that is already running\n",
        "subprocess.call(\"kill -9 `pidof bluetooth-agent`\",shell=True)\n",
        "\n",
        "# Now, connect in the same way as always with PyBlueZ\n",
        "try:\n",
        "    s = bluetooth.BluetoothSocket(bluetooth.RFCOMM)\n",
        "    s.connect((addr,port))\n",
        "except bluetooth.btcommon.BluetoothError as err:\n",
        "    # Error handler\n",
        "    pass\n",
        "    message = '0'\n",
        "    s.send(message)\n",
        "    time.sleep(0.1) "
      ]
    },
    {
      "cell_type": "code",
      "execution_count": 42,
      "metadata": {},
      "outputs": [
        {
          "name": "stdout",
          "output_type": "stream",
          "text": [
            "Sent: 4\n"
          ]
        },
        {
          "ename": "OSError",
          "evalue": "Et forsøg på at oprette forbindelse mislykkedes, fordi den part, der havde oprettet forbindelse, ikke svarede korrekt efter en periode, eller en oprettet forbindelse blev afbrudt, fordi værten ikke svarede.\r\n",
          "output_type": "error",
          "traceback": [
            "\u001b[1;31m---------------------------------------------------------------------------\u001b[0m",
            "\u001b[1;31mOSError\u001b[0m                                   Traceback (most recent call last)",
            "Cell \u001b[1;32mIn[42], line 13\u001b[0m\n\u001b[0;32m     11\u001b[0m s\u001b[38;5;241m.\u001b[39msend(message)\n\u001b[0;32m     12\u001b[0m \u001b[38;5;66;03m# Receiving data (blocking until something is received)\u001b[39;00m\n\u001b[1;32m---> 13\u001b[0m data \u001b[38;5;241m=\u001b[39m \u001b[43ms\u001b[49m\u001b[38;5;241;43m.\u001b[39;49m\u001b[43mrecv\u001b[49m\u001b[43m(\u001b[49m\u001b[38;5;241;43m1024\u001b[39;49m\u001b[43m)\u001b[49m  \u001b[38;5;66;03m# Adjust buffer size as needed\u001b[39;00m\n\u001b[0;32m     14\u001b[0m \u001b[38;5;28mprint\u001b[39m(\u001b[38;5;124mf\u001b[39m\u001b[38;5;124m\"\u001b[39m\u001b[38;5;124mReceived: \u001b[39m\u001b[38;5;132;01m{\u001b[39;00mdata\u001b[38;5;241m.\u001b[39mdecode(\u001b[38;5;124m'\u001b[39m\u001b[38;5;124mutf-8\u001b[39m\u001b[38;5;124m'\u001b[39m)\u001b[38;5;132;01m}\u001b[39;00m\u001b[38;5;124m\"\u001b[39m)  \u001b[38;5;66;03m# Decode bytes to string\u001b[39;00m\n\u001b[0;32m     15\u001b[0m message \u001b[38;5;241m=\u001b[39m \u001b[38;5;124m'\u001b[39m\u001b[38;5;124m3\u001b[39m\u001b[38;5;124m'\u001b[39m\n",
            "File \u001b[1;32m~\\AppData\\Local\\Packages\\PythonSoftwareFoundation.Python.3.10_qbz5n2kfra8p0\\LocalCache\\local-packages\\Python310\\site-packages\\bluetooth\\msbt.py:102\u001b[0m, in \u001b[0;36mBluetoothSocket.recv\u001b[1;34m(self, numbytes)\u001b[0m\n\u001b[0;32m    101\u001b[0m \u001b[38;5;28;01mdef\u001b[39;00m \u001b[38;5;21mrecv\u001b[39m (\u001b[38;5;28mself\u001b[39m, numbytes):\n\u001b[1;32m--> 102\u001b[0m     \u001b[38;5;28;01mreturn\u001b[39;00m \u001b[43mbt\u001b[49m\u001b[38;5;241;43m.\u001b[39;49m\u001b[43mrecv\u001b[49m\u001b[43m \u001b[49m\u001b[43m(\u001b[49m\u001b[38;5;28;43mself\u001b[39;49m\u001b[38;5;241;43m.\u001b[39;49m\u001b[43m_sockfd\u001b[49m\u001b[43m,\u001b[49m\u001b[43m \u001b[49m\u001b[43mnumbytes\u001b[49m\u001b[43m)\u001b[49m\n",
            "\u001b[1;31mOSError\u001b[0m: Et forsøg på at oprette forbindelse mislykkedes, fordi den part, der havde oprettet forbindelse, ikke svarede korrekt efter en periode, eller en oprettet forbindelse blev afbrudt, fordi værten ikke svarede.\r\n"
          ]
        }
      ],
      "source": [
        "s.settimeout(15.0)\n",
        "try:   \n",
        "    message = '4'\n",
        "    s.send(message)\n",
        "    print(f\"Sent: {message}\")\n",
        "    time.sleep(0.1)\n",
        "    message = '5'\n",
        "    s.send(message)\n",
        "    time.sleep(4)\n",
        "    message = '2'\n",
        "    s.send(message)\n",
        "    # Receiving data (blocking until something is received)\n",
        "    data = s.recv(1024)  # Adjust buffer size as needed\n",
        "    print(f\"Received: {data.decode('utf-8')}\")  # Decode bytes to string\n",
        "    message = '3'\n",
        "    s.send(message)\n",
        "    time.sleep(4)\n",
        "\n",
        "\n",
        "except bluetooth.btcommon.BluetoothError as err:\n",
        "    print(f\"Connection failed: {err}\")\n"
      ]
    }
  ],
  "metadata": {
    "colab": {
      "provenance": []
    },
    "kernelspec": {
      "display_name": "Python 3",
      "name": "python3"
    },
    "language_info": {
      "codemirror_mode": {
        "name": "ipython",
        "version": 3
      },
      "file_extension": ".py",
      "mimetype": "text/x-python",
      "name": "python",
      "nbconvert_exporter": "python",
      "pygments_lexer": "ipython3",
      "version": "3.10.11"
    }
  },
  "nbformat": 4,
  "nbformat_minor": 0
}
