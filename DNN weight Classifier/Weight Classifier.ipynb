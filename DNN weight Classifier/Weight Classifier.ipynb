{
  "nbformat": 4,
  "nbformat_minor": 0,
  "metadata": {
    "colab": {
      "provenance": []
    },
    "kernelspec": {
      "name": "python3",
      "display_name": "Python 3"
    },
    "language_info": {
      "name": "python"
    }
  },
  "cells": [
    {
      "cell_type": "code",
      "source": [
        "from google.colab import drive\n",
        "drive.mount('/content/drive')"
      ],
      "metadata": {
        "id": "Swo0-cD93fhq"
      },
      "execution_count": null,
      "outputs": []
    },
    {
      "cell_type": "markdown",
      "source": [
        "**Load and preprocess data**"
      ],
      "metadata": {
        "id": "fVYTx3kwvWKO"
      }
    },
    {
      "cell_type": "code",
      "execution_count": null,
      "metadata": {
        "id": "mKDyWfn_VFTC"
      },
      "outputs": [],
      "source": [
        "import pandas as pd\n",
        "import numpy as np\n",
        "import seaborn as sns\n",
        "import matplotlib.pyplot as plt\n",
        "from sklearn.model_selection import train_test_split\n",
        "from sklearn.model_selection import KFold\n",
        "from sklearn.preprocessing import StandardScaler\n",
        "from sklearn.metrics import accuracy_score, confusion_matrix\n",
        "from sklearn.metrics import ConfusionMatrixDisplay\n",
        "from tensorflow import keras\n",
        "from tensorflow.keras.callbacks import TensorBoard, ModelCheckpoint\n",
        "from sklearn.metrics import confusion_matrix\n",
        "\n",
        "\n",
        "### Load data\n",
        "constant_path = '/content/drive/MyDrive/Skole/Master of science - Electronic Systems/Electronic systems 2. semester/Systems of Systems (project)/P8/PayloadClassifierandFMGData/FMGdata/'\n",
        "\n",
        "data = []\n",
        "# \"Rest\" data\n",
        "data.append( [pd.read_excel(constant_path + 'LouisFMGdata/LouisLoadRest/dataLouisLoadRest0001.xls',header=None), 0])\n",
        "data.append( [pd.read_excel(constant_path + 'LouisFMGdata/LouisLoadRest/dataLouisLoadRest0002.xls',header=None), 0])\n",
        "data.append( [pd.read_excel(constant_path + 'MaltheFMGdata/MaltheLoadRest/dataMaltheLoadRest0001.xls',header=None), 0])\n",
        "data.append( [pd.read_excel(constant_path + 'MaltheFMGdata/MaltheLoadRest/dataMaltheLoadRest0002.xls',header=None), 0])\n",
        "data.append( [pd.read_excel(constant_path + 'NickFMGdata/NickNoLoadRest/dataNickNoLoadRest0001.xls',header=None), 0])\n",
        "data.append( [pd.read_excel(constant_path + 'NickFMGdata/NickNoLoadRest/dataNickNoLoadRest0002.xls',header=None), 0])\n",
        "data.append( [pd.read_excel(constant_path + 'NickFMGdata/NickNoLoadRest/dataNickNoLoadRest0003.xls',header=None), 0])\n",
        "\n",
        "# No-load flexed data\n",
        "data.append( [pd.read_excel(constant_path + 'LouisFMGdata/LouisNoLoadFlexed/dataLouisNoLoadFlexed0001.xls',header=None), 1])\n",
        "data.append( [pd.read_excel(constant_path + 'LouisFMGdata/LouisNoLoadFlexed/dataLouisNoLoadFlexed0002.xls',header=None), 1])\n",
        "data.append( [pd.read_excel(constant_path + 'MaltheFMGdata/MaltheNoLoadFlexed/dataMaltheNoLoadFlexed0001.xls',header=None), 1])\n",
        "data.append( [pd.read_excel(constant_path + 'MaltheFMGdata/MaltheNoLoadFlexed/dataMaltheNoLoadFlexed0002.xls',header=None), 1])\n",
        "data.append( [pd.read_excel(constant_path + 'NickFMGdata/NickNoLoadFlexed/dataNickNoLoadFlexed0001.xls',header=None), 1])\n",
        "data.append( [pd.read_excel(constant_path + 'NickFMGdata/NickNoLoadFlexed/dataNickNoLoadFlexed0002.xls',header=None), 1])\n",
        "data.append( [pd.read_excel(constant_path + 'NickFMGdata/NickNoLoadFlexed/dataNickNoLoadFlexed0003.xls',header=None), 1])\n",
        "\n",
        "# Load 1 flexed data\n",
        "data.append( [pd.read_excel(constant_path + 'LouisFMGdata/LouisLoadFlexed/dataLouisLoadFlexed0001.xls',header=None), 2])\n",
        "data.append( [pd.read_excel(constant_path + 'LouisFMGdata/LouisLoadFlexed/dataLouisLoadFlexed0002.xls',header=None), 2])\n",
        "data.append( [pd.read_excel(constant_path + 'MaltheFMGdata/MaltheLoadFlexed/dataMaltheLoadFlexed0001.xls',header=None), 2])\n",
        "data.append( [pd.read_excel(constant_path + 'MaltheFMGdata/MaltheLoadFlexed/dataMaltheLoadFlexed0002.xls',header=None), 2])\n",
        "data.append( [pd.read_excel(constant_path + 'NickFMGdata/NickLoadFlexed/dataNickLoadFlexed0001.xls',header=None), 2])\n",
        "data.append( [pd.read_excel(constant_path + 'NickFMGdata/NickLoadFlexed/dataNickLoadFlexed0002.xls',header=None), 2])\n",
        "data.append( [pd.read_excel(constant_path + 'NickFMGdata/NickLoadFlexed/dataNickLoadFlexed0003.xls',header=None), 2])\n",
        "\n",
        "# Load 2 (large load) flexed data\n",
        "data.append( [pd.read_excel(constant_path + 'LouisFMGdata/LouisLargeLoadFlexed/dataLouisLargePayload0001.xls',header=None), 3])\n",
        "data.append( [pd.read_excel(constant_path + 'LouisFMGdata/LouisLargeLoadFlexed/dataLouisLargePayload0002.xls',header=None), 3])\n",
        "data.append( [pd.read_excel(constant_path + 'MaltheFMGdata/MaltheLargePayload/MaltheLargeLoadFlexed/dataMaltheLargeLoadfsrFlexed0001.xls',header=None), 3])\n",
        "data.append( [pd.read_excel(constant_path + 'MaltheFMGdata/MaltheLargePayload/MaltheLargeLoadFlexed/dataMaltheLargeLoadfsrFlexed0002.xls',header=None), 3])\n",
        "data.append( [pd.read_excel(constant_path + 'NickFMGdata/NickLargeLoadFlexed/dataNickLargePayload0001.xls',header=None), 3])\n",
        "data.append( [pd.read_excel(constant_path + 'NickFMGdata/NickLargeLoadFlexed/dataNickLargePayload0002.xls',header=None), 3])\n",
        "data.append( [pd.read_excel(constant_path + 'NickFMGdata/NickLargeLoadFlexed/dataNickLargePayload0003.xls',header=None), 3])"
      ]
    },
    {
      "cell_type": "markdown",
      "source": [
        "**Combine and shuffle data**"
      ],
      "metadata": {
        "id": "K9MyM8f52ruR"
      }
    },
    {
      "cell_type": "code",
      "source": [
        "# Combine into a single DataFrame\n",
        "## Separate Data and labels\n",
        "datax = [dat[0] for dat in data]\n",
        "labels = [lab[1] for lab in data]\n",
        "\n",
        "# Assign labels to dataframe\n",
        "for i in range(len(datax)):\n",
        "  datax[i]['label'] = labels[i]\n",
        "\n",
        "datax = pd.concat(datax, ignore_index=True)\n",
        "\n",
        "\n",
        "# Shuffle the data\n",
        "datax = datax.sample(frac=1).reset_index(drop=True)\n",
        "\n",
        "### Preprocess the datax\n",
        "features = datax.drop('label', axis=1)\n",
        "labels = datax['label']\n",
        "\n",
        "# Normalize features\n",
        "scaler = StandardScaler()\n",
        "features = scaler.fit_transform(features)"
      ],
      "metadata": {
        "id": "nMfOz14c76c5"
      },
      "execution_count": null,
      "outputs": []
    },
    {
      "cell_type": "markdown",
      "source": [
        "**Split and normalise data**\n",
        "\n",
        "Split the data into initial test and training and then split into k-fold splits, essentially evaluating the data twice. Compare cross validated data with final tested data. Big difference is bad -> overfitting. Small difference is good --> unbiased fitting of model."
      ],
      "metadata": {
        "id": "pC_Nk0Qhv2iC"
      }
    },
    {
      "cell_type": "code",
      "source": [
        "# Split the data\n",
        "x_train, x_test, y_train, y_test = train_test_split(features, labels, test_size=0.3, random_state=42)\n",
        "\n",
        "# Normalisation of data\n",
        "mean_cols = np.mean(x_train, axis=0)\n",
        "std_cols = np.std(x_train, axis=0)\n",
        "                                                          # Normalization: mean = 0 and std = 1\n",
        "X_train_norm_1 = (x_train - mean_cols)/std_cols         # Training set mean and std will be used for test normalization\n",
        "X_test_norm_1 = (x_test - mean_cols)/std_cols           # Each column will have mean = 0 and std = 1\n",
        "\n",
        "# SOMI are following 4 lines\n",
        "X_train_sort = np.sort(X_train_norm_1, axis=1,)\n",
        "X_test_sort = np.sort(X_test_norm_1, axis=1)\n",
        "X_train_norm = X_train_sort/np.max(abs(X_train_sort), axis = 1)[:,None]\n",
        "X_test_norm = X_test_sort/np.max(abs(X_test_sort), axis = 1)[:,None]\n",
        "x_train=X_train_norm\n",
        "x_test=X_test_norm\n",
        "\n",
        "# Convert labels to one-hot encoding\n",
        "y_train = keras.utils.to_categorical(y_train, num_classes=4)\n",
        "y_test = keras.utils.to_categorical(y_test, num_classes=4)"
      ],
      "metadata": {
        "id": "bFUHA0R0v0Rr"
      },
      "execution_count": null,
      "outputs": []
    },
    {
      "cell_type": "markdown",
      "source": [
        "**Train and cross validate data**"
      ],
      "metadata": {
        "id": "r80t4YQKyCmS"
      }
    },
    {
      "cell_type": "code",
      "source": [
        "### Model\n",
        "def create_model():\n",
        "    model = keras.Sequential([\n",
        "        keras.layers.Dense(512, activation='relu', input_dim=8),\n",
        "        keras.layers.Dense(256, activation='relu'),\n",
        "        keras.layers.Dense(128, activation='relu'),\n",
        "        keras.layers.Dense(32, activation='relu'),\n",
        "        keras.layers.Dense(4, activation='softmax')\n",
        "    ])\n",
        "    # Compile the model with a lower learning rate and gradient clipping\n",
        "    optimizer = keras.optimizers.Adam(learning_rate=0.001, clipvalue=1.0)\n",
        "    model.compile(optimizer=optimizer, loss='categorical_crossentropy', metrics=['accuracy'])\n",
        "    return model\n",
        "\n",
        "# Setup callbacks for monitoring\n",
        "callbacks = [\n",
        "    TensorBoard(log_dir='./logs'),\n",
        "    ModelCheckpoint(filepath='model.{epoch:02d}-{val_loss:.2f}.h5')\n",
        "]\n",
        "\n",
        "# Initialize k-fold cross-validation\n",
        "kf = KFold(n_splits=5)\n",
        "\n",
        "# Initialize list to store accuracy scores\n",
        "accuracy_scores = []\n",
        "loss_scores = []\n",
        "\n",
        "# Iterate through each fold\n",
        "for train_index, test_index in kf.split(x_train):\n",
        "    X_train, X_test = x_train[train_index], x_train[test_index]\n",
        "    Y_train, Y_test = y_train[train_index], y_train[test_index]\n",
        "\n",
        "    # Create instance of the model\n",
        "    model = create_model()\n",
        "\n",
        "    # Train the model\n",
        "    model.fit(X_train, Y_train, epochs=5, validation_split=0.1, callbacks=callbacks)\n",
        "\n",
        "    # Predict on the test set\n",
        "    #y_predicted = np.argmax(model.predict(x_test),axis=1)\n",
        "    #y_test_= np.argmax(y_test,axis=1)\n",
        "\n",
        "    # Calculate accuracy and store it\n",
        "    loss, accuracy = model.evaluate(X_test, Y_test)\n",
        "\n",
        "    accuracy_scores.append(accuracy)\n",
        "    loss_scores.append(loss)\n",
        "\n",
        "# Display accuracy and loss values\n",
        "print(\"Accuracy values:\", accuracy_scores)\n",
        "print(\"Loss values:\", loss_scores)\n",
        "\n",
        "# Display average accuracy and loss\n",
        "avg_accuracy = np.mean(accuracy_scores)\n",
        "print(f\"Average Accuracy: {avg_accuracy:.4f}\")\n",
        "\n",
        "avg_loss = np.mean(loss_scores)\n",
        "print(f\"Average Loss: {avg_loss:.4f}\")"
      ],
      "metadata": {
        "colab": {
          "base_uri": "https://localhost:8080/"
        },
        "id": "yhbFOJbnwKhA",
        "outputId": "64326c19-5c8b-4153-e77a-2a22c6217d50"
      },
      "execution_count": null,
      "outputs": [
        {
          "output_type": "stream",
          "name": "stdout",
          "text": [
            "Epoch 1/5\n",
            "588/588 [==============================] - 5s 7ms/step - loss: 0.3828 - accuracy: 0.8525 - val_loss: 0.1553 - val_accuracy: 0.9406\n",
            "Epoch 2/5\n",
            " 19/588 [..............................] - ETA: 3s - loss: 0.1167 - accuracy: 0.9704"
          ]
        },
        {
          "output_type": "stream",
          "name": "stderr",
          "text": [
            "/usr/local/lib/python3.10/dist-packages/keras/src/engine/training.py:3103: UserWarning: You are saving your model as an HDF5 file via `model.save()`. This file format is considered legacy. We recommend using instead the native Keras format, e.g. `model.save('my_model.keras')`.\n",
            "  saving_api.save_model(\n"
          ]
        },
        {
          "output_type": "stream",
          "name": "stdout",
          "text": [
            "588/588 [==============================] - 4s 7ms/step - loss: 0.1188 - accuracy: 0.9552 - val_loss: 0.0684 - val_accuracy: 0.9837\n",
            "Epoch 3/5\n",
            "588/588 [==============================] - 5s 8ms/step - loss: 0.0635 - accuracy: 0.9799 - val_loss: 0.0521 - val_accuracy: 0.9880\n",
            "Epoch 4/5\n",
            "588/588 [==============================] - 5s 8ms/step - loss: 0.0428 - accuracy: 0.9878 - val_loss: 0.0257 - val_accuracy: 0.9952\n",
            "Epoch 5/5\n",
            "588/588 [==============================] - 4s 7ms/step - loss: 0.0398 - accuracy: 0.9891 - val_loss: 0.0222 - val_accuracy: 0.9943\n",
            "164/164 [==============================] - 0s 2ms/step - loss: 0.0217 - accuracy: 0.9931\n",
            "Epoch 1/5\n",
            "588/588 [==============================] - 6s 9ms/step - loss: 0.3535 - accuracy: 0.8660 - val_loss: 0.1684 - val_accuracy: 0.9387\n",
            "Epoch 2/5\n",
            "588/588 [==============================] - 5s 9ms/step - loss: 0.1112 - accuracy: 0.9580 - val_loss: 0.0765 - val_accuracy: 0.9837\n",
            "Epoch 3/5\n",
            "588/588 [==============================] - 6s 10ms/step - loss: 0.0904 - accuracy: 0.9713 - val_loss: 0.0507 - val_accuracy: 0.9890\n",
            "Epoch 4/5\n",
            "588/588 [==============================] - 5s 9ms/step - loss: 0.0501 - accuracy: 0.9851 - val_loss: 0.0873 - val_accuracy: 0.9794\n",
            "Epoch 5/5\n",
            "588/588 [==============================] - 5s 8ms/step - loss: 0.0416 - accuracy: 0.9877 - val_loss: 0.0607 - val_accuracy: 0.9737\n",
            "164/164 [==============================] - 0s 3ms/step - loss: 0.0690 - accuracy: 0.9680\n",
            "Epoch 1/5\n",
            "588/588 [==============================] - 5s 7ms/step - loss: 0.3746 - accuracy: 0.8473 - val_loss: 0.1271 - val_accuracy: 0.9550\n",
            "Epoch 2/5\n",
            "588/588 [==============================] - 5s 9ms/step - loss: 0.1099 - accuracy: 0.9576 - val_loss: 0.0726 - val_accuracy: 0.9847\n",
            "Epoch 3/5\n",
            "588/588 [==============================] - 4s 7ms/step - loss: 0.0693 - accuracy: 0.9768 - val_loss: 0.0478 - val_accuracy: 0.9919\n",
            "Epoch 4/5\n",
            "588/588 [==============================] - 4s 7ms/step - loss: 0.0458 - accuracy: 0.9861 - val_loss: 0.0421 - val_accuracy: 0.9890\n",
            "Epoch 5/5\n",
            "588/588 [==============================] - 5s 8ms/step - loss: 0.0487 - accuracy: 0.9857 - val_loss: 0.0506 - val_accuracy: 0.9823\n",
            "164/164 [==============================] - 0s 3ms/step - loss: 0.0505 - accuracy: 0.9816\n",
            "Epoch 1/5\n",
            "588/588 [==============================] - 6s 7ms/step - loss: 0.3557 - accuracy: 0.8667 - val_loss: 0.3029 - val_accuracy: 0.8961\n",
            "Epoch 2/5\n",
            "588/588 [==============================] - 7s 12ms/step - loss: 0.1029 - accuracy: 0.9674 - val_loss: 0.0695 - val_accuracy: 0.9804\n",
            "Epoch 3/5\n",
            "588/588 [==============================] - 4s 7ms/step - loss: 0.0589 - accuracy: 0.9822 - val_loss: 0.0506 - val_accuracy: 0.9880\n",
            "Epoch 4/5\n",
            "588/588 [==============================] - 4s 7ms/step - loss: 0.0422 - accuracy: 0.9877 - val_loss: 0.0319 - val_accuracy: 0.9938\n",
            "Epoch 5/5\n",
            "588/588 [==============================] - 6s 10ms/step - loss: 0.0575 - accuracy: 0.9815 - val_loss: 0.0482 - val_accuracy: 0.9847\n",
            "164/164 [==============================] - 0s 3ms/step - loss: 0.0493 - accuracy: 0.9839\n",
            "Epoch 1/5\n",
            "588/588 [==============================] - 5s 7ms/step - loss: 0.3839 - accuracy: 0.8533 - val_loss: 0.2040 - val_accuracy: 0.9138\n",
            "Epoch 2/5\n",
            "588/588 [==============================] - 4s 7ms/step - loss: 0.1230 - accuracy: 0.9558 - val_loss: 0.0833 - val_accuracy: 0.9809\n",
            "Epoch 3/5\n",
            "588/588 [==============================] - 6s 10ms/step - loss: 0.0758 - accuracy: 0.9764 - val_loss: 0.0844 - val_accuracy: 0.9775\n",
            "Epoch 4/5\n",
            "588/588 [==============================] - 4s 7ms/step - loss: 0.0561 - accuracy: 0.9844 - val_loss: 0.0576 - val_accuracy: 0.9847\n",
            "Epoch 5/5\n",
            "588/588 [==============================] - 4s 7ms/step - loss: 0.0385 - accuracy: 0.9880 - val_loss: 0.0449 - val_accuracy: 0.9876\n",
            "164/164 [==============================] - 0s 2ms/step - loss: 0.0323 - accuracy: 0.9923\n",
            "Accuracy values: [0.9931047558784485, 0.9680137634277344, 0.9816127419471741, 0.9839080572128296, 0.992337167263031]\n",
            "Loss values: [0.02168295346200466, 0.0689568966627121, 0.050500303506851196, 0.04932940751314163, 0.03229094296693802]\n",
            "Average Accuracy: 0.9838\n",
            "Average Loss: 0.0446\n"
          ]
        }
      ]
    },
    {
      "cell_type": "markdown",
      "source": [
        "**Train model on original test data**"
      ],
      "metadata": {
        "id": "hF6L8SaAC-Sn"
      }
    },
    {
      "cell_type": "code",
      "source": [
        "# Create instance of the model\n",
        "model = create_model()\n",
        "\n",
        "# Train the model\n",
        "model.fit(x_train, y_train, epochs=10, validation_split=0.1, callbacks=callbacks)\n",
        "\n",
        "# Calculate accuracy and loss\n",
        "loss, accuracy = model.evaluate(x_test, y_test)\n",
        "print(f\"Test loss: {loss:.4f}, Test accuracy: {accuracy:.4f}\")\n"
      ],
      "metadata": {
        "colab": {
          "base_uri": "https://localhost:8080/"
        },
        "id": "ljzEwk1CAry-",
        "outputId": "ddc6dd8c-d56b-48a3-d8b1-3ce6623f1b3b"
      },
      "execution_count": null,
      "outputs": [
        {
          "output_type": "stream",
          "name": "stdout",
          "text": [
            "Epoch 1/10\n",
            "735/735 [==============================] - 5s 6ms/step - loss: 0.0211 - accuracy: 0.9937 - val_loss: 0.0133 - val_accuracy: 0.9954\n",
            "Epoch 2/10\n",
            "735/735 [==============================] - 9s 12ms/step - loss: 0.0313 - accuracy: 0.9908 - val_loss: 0.0118 - val_accuracy: 0.9966\n",
            "Epoch 3/10\n",
            "735/735 [==============================] - 5s 7ms/step - loss: 0.0307 - accuracy: 0.9890 - val_loss: 0.0293 - val_accuracy: 0.9885\n",
            "Epoch 4/10\n",
            "735/735 [==============================] - 4s 6ms/step - loss: 0.0266 - accuracy: 0.9923 - val_loss: 0.0128 - val_accuracy: 0.9954\n",
            "Epoch 5/10\n",
            "735/735 [==============================] - 7s 9ms/step - loss: 0.0203 - accuracy: 0.9939 - val_loss: 0.0124 - val_accuracy: 0.9969\n",
            "Epoch 6/10\n",
            "735/735 [==============================] - 4s 6ms/step - loss: 0.0159 - accuracy: 0.9951 - val_loss: 0.0078 - val_accuracy: 0.9973\n",
            "Epoch 7/10\n",
            "735/735 [==============================] - 4s 6ms/step - loss: 0.0166 - accuracy: 0.9951 - val_loss: 0.0122 - val_accuracy: 0.9950\n",
            "Epoch 8/10\n",
            "735/735 [==============================] - 7s 9ms/step - loss: 0.0092 - accuracy: 0.9970 - val_loss: 0.0131 - val_accuracy: 0.9958\n",
            "Epoch 9/10\n",
            "735/735 [==============================] - 5s 6ms/step - loss: 0.0250 - accuracy: 0.9929 - val_loss: 0.0078 - val_accuracy: 0.9973\n",
            "Epoch 10/10\n",
            "735/735 [==============================] - 5s 7ms/step - loss: 0.0092 - accuracy: 0.9969 - val_loss: 0.0058 - val_accuracy: 0.9973\n",
            "350/350 [==============================] - 1s 2ms/step - loss: 0.0032 - accuracy: 0.9989\n",
            "Test loss: 0.0032, Test accuracy: 0.9989\n"
          ]
        }
      ]
    },
    {
      "cell_type": "markdown",
      "source": [
        "**Evaluate model**"
      ],
      "metadata": {
        "id": "1kP82NFJyTba"
      }
    },
    {
      "cell_type": "code",
      "source": [
        "# Predicting the labels for the test set\n",
        "y_predicted = np.argmax(model.predict(x_test), axis=1)\n",
        "y_test_ = np.argmax(y_test, axis=1)\n",
        "\n",
        "# Generating the confusion matrix\n",
        "cm = confusion_matrix(y_test_, y_predicted, normalize='true')\n",
        "\n",
        "# Convert to percentage\n",
        "cm_percentage = cm * 100\n",
        "\n",
        "sns.set(font_scale=1.5)\n",
        "\n",
        "# Plotting the confusion matrix\n",
        "plt.figure(figsize=(10, 8))\n",
        "sns.heatmap(cm_percentage, annot=True, fmt=\".2f\", cmap=\"viridis\", xticklabels=['R', 'NL', 'L1', 'L2'], yticklabels=['R', 'NL', 'L1', 'L2'])\n",
        "plt.xlabel('Predicted label')\n",
        "plt.ylabel('True label')\n",
        "#plt.title('Normalized Confusion Matrix (Percentage)')\n",
        "plt.savefig('ConfusionMatrix4class.svg', format='svg')\n",
        "plt.show()"
      ],
      "metadata": {
        "colab": {
          "base_uri": "https://localhost:8080/",
          "height": 735
        },
        "id": "QW6Tauba1LqZ",
        "outputId": "5513b8f8-59e2-4e1b-b891-e57d2e7dc513"
      },
      "execution_count": null,
      "outputs": [
        {
          "output_type": "stream",
          "name": "stdout",
          "text": [
            "350/350 [==============================] - 1s 2ms/step\n"
          ]
        },
        {
          "output_type": "display_data",
          "data": {
            "text/plain": [
              "<Figure size 1000x800 with 2 Axes>"
            ],
            "image/png": "[encoded data removed]"
          },
          "metadata": {}
        }
      ]
    }
  ]
}