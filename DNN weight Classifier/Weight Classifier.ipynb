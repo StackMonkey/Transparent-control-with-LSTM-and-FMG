{
  "cells": [
    {
      "cell_type": "code",
      "execution_count": null,
      "metadata": {
        "colab": {
          "base_uri": "https://localhost:8080/"
        },
        "id": "F_Z_rgCCt-Su",
        "outputId": "2ba3ae7d-bdcf-48ce-bfc0-7aaad593197a"
      },
      "outputs": [
        {
          "output_type": "stream",
          "name": "stdout",
          "text": [
            "Epoch 1/10\n",
            "690/690 [==============================] - 6s 7ms/step - loss: 0.2314 - accuracy: 0.8968 - val_loss: 0.1101 - val_accuracy: 0.9673\n",
            "Epoch 2/10\n",
            " 12/690 [..............................] - ETA: 6s - loss: 0.0704 - accuracy: 0.9714"
          ]
        },
        {
          "output_type": "stream",
          "name": "stderr",
          "text": [
            "/usr/local/lib/python3.10/dist-packages/keras/src/engine/training.py:3103: UserWarning: You are saving your model as an HDF5 file via `model.save()`. This file format is considered legacy. We recommend using instead the native Keras format, e.g. `model.save('my_model.keras')`.\n",
            "  saving_api.save_model(\n"
          ]
        },
        {
          "output_type": "stream",
          "name": "stdout",
          "text": [
            "690/690 [==============================] - 6s 9ms/step - loss: 0.0524 - accuracy: 0.9835 - val_loss: 0.0450 - val_accuracy: 0.9886\n",
            "Epoch 3/10\n",
            "690/690 [==============================] - 4s 6ms/step - loss: 0.0435 - accuracy: 0.9861 - val_loss: 0.0272 - val_accuracy: 0.9914\n",
            "Epoch 4/10\n",
            "690/690 [==============================] - 4s 7ms/step - loss: 0.0607 - accuracy: 0.9828 - val_loss: 0.0402 - val_accuracy: 0.9910\n",
            "Epoch 5/10\n",
            "690/690 [==============================] - 8s 11ms/step - loss: 0.0269 - accuracy: 0.9921 - val_loss: 0.0295 - val_accuracy: 0.9939\n",
            "Epoch 6/10\n",
            "690/690 [==============================] - 5s 7ms/step - loss: 0.0292 - accuracy: 0.9906 - val_loss: 0.0196 - val_accuracy: 0.9927\n",
            "Epoch 7/10\n",
            "690/690 [==============================] - 4s 6ms/step - loss: 0.0230 - accuracy: 0.9928 - val_loss: 0.0155 - val_accuracy: 0.9939\n",
            "Epoch 8/10\n",
            "690/690 [==============================] - 6s 9ms/step - loss: 0.0179 - accuracy: 0.9934 - val_loss: 0.0269 - val_accuracy: 0.9939\n",
            "Epoch 9/10\n",
            "690/690 [==============================] - 4s 6ms/step - loss: 0.0267 - accuracy: 0.9921 - val_loss: 0.0215 - val_accuracy: 0.9939\n",
            "Epoch 10/10\n",
            "690/690 [==============================] - 5s 7ms/step - loss: 0.0237 - accuracy: 0.9915 - val_loss: 0.0150 - val_accuracy: 0.9967\n",
            "329/329 [==============================] - 1s 3ms/step - loss: 0.0147 - accuracy: 0.9975\n",
            "Test loss: 0.014659502543509007, Test accuracy: 0.9975237846374512\n"
          ]
        }
      ],
      "source": [
        "import pandas as pd\n",
        "import numpy as np\n",
        "from sklearn.model_selection import train_test_split\n",
        "from sklearn.preprocessing import StandardScaler\n",
        "from sklearn.metrics import confusion_matrix\n",
        "from sklearn.metrics import ConfusionMatrixDisplay\n",
        "from tensorflow import keras\n",
        "from tensorflow.keras.callbacks import TensorBoard, ModelCheckpoint\n",
        "\n",
        "\n",
        "### Load data\n",
        "data1_1 = pd.read_excel('/content/drive/MyDrive/Skole/Master of science - Electronic Systems/Electronic systems 2. semester/Systems of Systems (project)/P8/PayloadClassifierandFMGData/FMGdata/LouisFMGdata/LouisLoadRest/dataLouisLoadRest0001.xls',header=None)\n",
        "data1_2 = pd.read_excel('/content/drive/MyDrive/Skole/Master of science - Electronic Systems/Electronic systems 2. semester/Systems of Systems (project)/P8/PayloadClassifierandFMGData/FMGdata/LouisFMGdata/LouisLoadRest/dataLouisLoadRest0002.xls',header=None)\n",
        "data1_3 = pd.read_excel('/content/drive/MyDrive/Skole/Master of science - Electronic Systems/Electronic systems 2. semester/Systems of Systems (project)/P8/PayloadClassifierandFMGData/FMGdata/MaltheFMGdata/MaltheLoadRest/dataMaltheLoadRest0001.xls',header=None)\n",
        "data1_4 = pd.read_excel('/content/drive/MyDrive/Skole/Master of science - Electronic Systems/Electronic systems 2. semester/Systems of Systems (project)/P8/PayloadClassifierandFMGData/FMGdata/MaltheFMGdata/MaltheLoadRest/dataMaltheLoadRest0002.xls',header=None)\n",
        "data1_5 = pd.read_excel('/content/drive/MyDrive/Skole/Master of science - Electronic Systems/Electronic systems 2. semester/Systems of Systems (project)/P8/PayloadClassifierandFMGData/FMGdata/NickFMGdata/NickNoLoadRest/dataNickNoLoadRest0001.xls',header=None)\n",
        "data1_6 = pd.read_excel('/content/drive/MyDrive/Skole/Master of science - Electronic Systems/Electronic systems 2. semester/Systems of Systems (project)/P8/PayloadClassifierandFMGData/FMGdata/NickFMGdata/NickNoLoadRest/dataNickNoLoadRest0002.xls',header=None)\n",
        "data1_7 = pd.read_excel('/content/drive/MyDrive/Skole/Master of science - Electronic Systems/Electronic systems 2. semester/Systems of Systems (project)/P8/PayloadClassifierandFMGData/FMGdata/NickFMGdata/NickNoLoadRest/dataNickNoLoadRest0003.xls',header=None)\n",
        "\n",
        "data2_1 = pd.read_excel('/content/drive/MyDrive/Skole/Master of science - Electronic Systems/Electronic systems 2. semester/Systems of Systems (project)/P8/PayloadClassifierandFMGData/FMGdata/LouisFMGdata/LouisNoLoadFlexed/dataLouisNoLoadFlexed0001.xls',header=None)\n",
        "data2_2 = pd.read_excel('/content/drive/MyDrive/Skole/Master of science - Electronic Systems/Electronic systems 2. semester/Systems of Systems (project)/P8/PayloadClassifierandFMGData/FMGdata/LouisFMGdata/LouisNoLoadFlexed/dataLouisNoLoadFlexed0002.xls',header=None)\n",
        "data2_3 = pd.read_excel('/content/drive/MyDrive/Skole/Master of science - Electronic Systems/Electronic systems 2. semester/Systems of Systems (project)/P8/PayloadClassifierandFMGData/FMGdata/MaltheFMGdata/MaltheNoLoadFlexed/dataMaltheNoLoadFlexed0001.xls',header=None)\n",
        "data2_4 = pd.read_excel('/content/drive/MyDrive/Skole/Master of science - Electronic Systems/Electronic systems 2. semester/Systems of Systems (project)/P8/PayloadClassifierandFMGData/FMGdata/MaltheFMGdata/MaltheNoLoadFlexed/dataMaltheNoLoadFlexed0002.xls',header=None)\n",
        "data2_5 = pd.read_excel('/content/drive/MyDrive/Skole/Master of science - Electronic Systems/Electronic systems 2. semester/Systems of Systems (project)/P8/PayloadClassifierandFMGData/FMGdata/NickFMGdata/NickNoLoadFlexed/dataNickNoLoadFlexed0001.xls',header=None)\n",
        "data2_6 = pd.read_excel('/content/drive/MyDrive/Skole/Master of science - Electronic Systems/Electronic systems 2. semester/Systems of Systems (project)/P8/PayloadClassifierandFMGData/FMGdata/NickFMGdata/NickNoLoadFlexed/dataNickNoLoadFlexed0002.xls',header=None)\n",
        "data2_7 = pd.read_excel('/content/drive/MyDrive/Skole/Master of science - Electronic Systems/Electronic systems 2. semester/Systems of Systems (project)/P8/PayloadClassifierandFMGData/FMGdata/NickFMGdata/NickNoLoadFlexed/dataNickNoLoadFlexed0003.xls',header=None)\n",
        "\n",
        "data3_1 = pd.read_excel('/content/drive/MyDrive/Skole/Master of science - Electronic Systems/Electronic systems 2. semester/Systems of Systems (project)/P8/PayloadClassifierandFMGData/FMGdata/LouisFMGdata/LouisLoadFlexed/dataLouisLoadFlexed0001.xls',header=None)\n",
        "data3_2 = pd.read_excel('/content/drive/MyDrive/Skole/Master of science - Electronic Systems/Electronic systems 2. semester/Systems of Systems (project)/P8/PayloadClassifierandFMGData/FMGdata/LouisFMGdata/LouisLoadFlexed/dataLouisLoadFlexed0002.xls',header=None)\n",
        "data3_3 = pd.read_excel('/content/drive/MyDrive/Skole/Master of science - Electronic Systems/Electronic systems 2. semester/Systems of Systems (project)/P8/PayloadClassifierandFMGData/FMGdata/MaltheFMGdata/MaltheLoadFlexed/dataMaltheLoadFlexed0001.xls',header=None)\n",
        "data3_4 = pd.read_excel('/content/drive/MyDrive/Skole/Master of science - Electronic Systems/Electronic systems 2. semester/Systems of Systems (project)/P8/PayloadClassifierandFMGData/FMGdata/MaltheFMGdata/MaltheLoadFlexed/dataMaltheLoadFlexed0002.xls',header=None)\n",
        "data3_5 = pd.read_excel('/content/drive/MyDrive/Skole/Master of science - Electronic Systems/Electronic systems 2. semester/Systems of Systems (project)/P8/PayloadClassifierandFMGData/FMGdata/NickFMGdata/NickLoadFlexed/dataNickLoadFlexed0001.xls',header=None)\n",
        "data3_6 = pd.read_excel('/content/drive/MyDrive/Skole/Master of science - Electronic Systems/Electronic systems 2. semester/Systems of Systems (project)/P8/PayloadClassifierandFMGData/FMGdata/NickFMGdata/NickLoadFlexed/dataNickLoadFlexed0002.xls',header=None)\n",
        "data3_7 = pd.read_excel('/content/drive/MyDrive/Skole/Master of science - Electronic Systems/Electronic systems 2. semester/Systems of Systems (project)/P8/PayloadClassifierandFMGData/FMGdata/NickFMGdata/NickLoadFlexed/dataNickLoadFlexed0003.xls',header=None)\n",
        "\n",
        "\n",
        "\n",
        "\n",
        "\n",
        "# Assign labels\n",
        "data1_1['label'] = 0\n",
        "data1_2['label'] = 0\n",
        "data1_3['label'] = 0\n",
        "data1_4['label'] = 0\n",
        "data1_5['label'] = 0\n",
        "data1_6['label'] = 0\n",
        "data1_7['label'] = 0\n",
        "\n",
        "data2_1['label'] = 1\n",
        "data2_2['label'] = 1\n",
        "data2_3['label'] = 1\n",
        "data2_4['label'] = 1\n",
        "data2_5['label'] = 1\n",
        "data2_6['label'] = 1\n",
        "data2_7['label'] = 1\n",
        "\n",
        "data3_1['label'] = 2\n",
        "data3_2['label'] = 2\n",
        "data3_3['label'] = 2\n",
        "data3_4['label'] = 2\n",
        "data3_5['label'] = 2\n",
        "data3_6['label'] = 2\n",
        "data3_7['label'] = 2\n",
        "\n",
        "# Combine into a single DataFrame\n",
        "data = pd.concat([data1_1, data2_1, data3_1,data1_2, data2_2, data3_2,data1_3, data2_3, data3_3,data1_4, data2_4, data3_4,data1_5, data2_5, data3_5, data1_5, data2_5, data3_5, data1_6, data2_6, data3_6,data1_7, data2_7, data3_7], axis=0)\n",
        "\n",
        "# Shuffle the data\n",
        "data = data.sample(frac=1).reset_index(drop=True)\n",
        "\n",
        "### Preprocess the data\n",
        "features = data.drop('label', axis=1)\n",
        "labels = data['label']\n",
        "\n",
        "# Normalize features\n",
        "scaler = StandardScaler()\n",
        "features = scaler.fit_transform(features)\n",
        "\n",
        "# Split the data\n",
        "x_train, x_test, y_train, y_test = train_test_split(features, labels, test_size=0.3, random_state=42)\n",
        "\n",
        "\n",
        "mean_cols = np.mean(x_train, axis=0)\n",
        "std_cols = np.std(x_train, axis=0)\n",
        "                                                          # Normalization: mean = 0 and std = 1\n",
        "X_train_norm_1 = (x_train - mean_cols)/std_cols         # Training set mean and std will be used for test normalization\n",
        "X_test_norm_1 = (x_test - mean_cols)/std_cols           # Each column will have mean = 0 and std = 1\n",
        "\n",
        "# SOMI are following 4 lines\n",
        "X_train_sort = np.sort(X_train_norm_1, axis=1,)\n",
        "X_test_sort = np.sort(X_test_norm_1, axis=1)\n",
        "X_train_norm = X_train_sort/np.max(abs(X_train_sort), axis = 1)[:,None]\n",
        "X_test_norm = X_test_sort/np.max(abs(X_test_sort), axis = 1)[:,None]\n",
        "x_train=X_train_norm\n",
        "x_test=X_test_norm\n",
        "\n",
        "\n",
        "\n",
        "\n",
        "# Convert labels to one-hot encoding\n",
        "y_train = keras.utils.to_categorical(y_train, num_classes=3)\n",
        "y_test = keras.utils.to_categorical(y_test, num_classes=3)\n",
        "\n",
        "\n",
        "### Model\n",
        "model = keras.Sequential([\n",
        "    keras.layers.Dense(512, activation='relu', input_dim=8),\n",
        "    keras.layers.Dense(256, activation='relu'),\n",
        "    keras.layers.Dense(128, activation='relu'),\n",
        "    keras.layers.Dense(32, activation='relu'),\n",
        "    keras.layers.Dense(3, activation='softmax')\n",
        "])\n",
        "\n",
        "# Compile the model with a lower learning rate and gradient clipping\n",
        "optimizer = keras.optimizers.Adam(learning_rate=0.001, clipvalue=1.0)\n",
        "model.compile(optimizer=optimizer, loss='categorical_crossentropy', metrics=['accuracy'])\n",
        "\n",
        "# Setup callbacks for monitoring\n",
        "callbacks = [\n",
        "    TensorBoard(log_dir='./logs'),\n",
        "    ModelCheckpoint(filepath='model.{epoch:02d}-{val_loss:.2f}.h5')\n",
        "]\n",
        "\n",
        "### Train the model\n",
        "model.fit(x_train, y_train, epochs=10, validation_split=0.1, callbacks=callbacks)\n",
        "loss, accuracy = model.evaluate(x_test, y_test)\n",
        "print(f\"Test loss: {loss}, Test accuracy: {accuracy}\")\n",
        "\n"
      ]
    },
    {
      "cell_type": "code",
      "source": [
        "from google.colab import drive\n",
        "drive.mount('/content/drive')"
      ],
      "metadata": {
        "colab": {
          "base_uri": "https://localhost:8080/"
        },
        "id": "PJFMHxxnwrFo",
        "outputId": "54b4bcc4-12d4-476a-9460-aba16fecebee"
      },
      "execution_count": null,
      "outputs": [
        {
          "output_type": "stream",
          "name": "stdout",
          "text": [
            "Mounted at /content/drive\n"
          ]
        }
      ]
    },
    {
      "cell_type": "code",
      "source": [
        "### Evaluate the model\n",
        "y_predicted = np.argmax(model.predict(x_test),axis=1)\n",
        "y_test_= np.argmax(y_test,axis=1)\n",
        "\n",
        "\n",
        "ConfusionMatrixDisplay.from_predictions(y_test_, y_predicted,normalize='true')\n",
        "\n",
        "\n"
      ],
      "metadata": {
        "colab": {
          "base_uri": "https://localhost:8080/",
          "height": 490
        },
        "id": "wgGOG86kJRJR",
        "outputId": "5727949c-3d05-4688-cec8-61af689274f4"
      },
      "execution_count": null,
      "outputs": [
        {
          "output_type": "stream",
          "name": "stdout",
          "text": [
            "329/329 [==============================] - 1s 4ms/step\n"
          ]
        },
        {
          "output_type": "execute_result",
          "data": {
            "text/plain": [
              "<sklearn.metrics._plot.confusion_matrix.ConfusionMatrixDisplay at 0x780f6c28c430>"
            ]
          },
          "metadata": {},
          "execution_count": 11
        },
        {
          "output_type": "display_data",
          "data": {
            "text/plain": [
              "<Figure size 640x480 with 2 Axes>"
            ],
            "image/png": "[encoded data removed]"
          },
          "metadata": {}
        }
      ]
    },
    {
      "cell_type": "markdown",
      "source": [
        "**5-fold cross validation**"
      ],
      "metadata": {
        "id": "-Nv26VVUEQxP"
      }
    },
    {
      "cell_type": "code",
      "source": [
        "k_fold = 1\n",
        "rs = ShuffleSplit(n_splits=k_fold, random_state=0, test_size=0.99, train_size=None) # Setup k-fold division of dataset\n",
        "\n",
        "k_fold_iteration = 1;\n",
        "for train_indexes, test_indexes in rs.split(Xy):\n",
        "  print('#####################################################')\n",
        "  print('##             k-fold iteration = {}                ##'.format(k_fold_iteration))\n",
        "  print('#####################################################')\n",
        "  X_train = np.zeros((len(train_indexes), 8))\n",
        "  y_train = np.zeros((len(train_indexes), 1))\n",
        "  X_test  = np.zeros((len(test_indexes), 8))\n",
        "  y_test  = np.zeros((len(test_indexes), 1))\n",
        "\n",
        "  train_dataset = [Xy[i, :] for i in train_indexes]\n",
        "  test_dataset  = [Xy[i, :] for i in test_indexes]\n",
        "\n",
        "  for index in range(0, len(train_dataset)):\n",
        "    X_train[index] = train_dataset[index][:8]\n",
        "    y_train[index] = train_dataset[index][-1]\n",
        "\n",
        "  for index in range(0, len(test_dataset)):\n",
        "    X_test[index] = test_dataset[index][:8]\n",
        "    y_test[index] = test_dataset[index][-1]\n",
        "\n",
        "  mu, sigma = NOISE_MU, NOISE_SIGMA                       # Creating Gaussian noise only for the training dataset\n",
        "  noise_1 = np.random.normal(mu, sigma, (len(X_train),1))\n",
        "  noise_2 = np.random.normal(mu, sigma, (len(X_train),1))\n",
        "  noise_3 = np.random.normal(mu, sigma, (len(X_train),1))\n",
        "  noise_4 = np.random.normal(mu, sigma, (len(X_train),1))\n",
        "  noise_5 = np.random.normal(mu, sigma, (len(X_train),1))\n",
        "  noise_6 = np.random.normal(mu, sigma, (len(X_train),1))\n",
        "  noise_7 = np.random.normal(mu, sigma, (len(X_train),1))\n",
        "  noise_8 = np.random.normal(mu, sigma, (len(X_train),1))\n",
        "  noise = np.c_[noise_1, noise_2, noise_3, noise_4, noise_5, noise_6, noise_7, noise_8]\n",
        "  X_train[:] = X_train[:] + noise                         # Noise is added only to the training dataset\n",
        "\n",
        "  mean_cols = np.mean(X_train, axis=0)\n",
        "  std_cols = np.std(X_train, axis=0)\n",
        "                                                          # Normalization: mean = 0 and std = 1\n",
        "  X_train_norm_1 = (X_train - mean_cols)/std_cols         # Training set mean and std will be used for test normalization\n",
        "  X_test_norm_1 = (X_test - mean_cols)/std_cols           # Each column will have mean = 0 and std = 1\n",
        "\n",
        "  # SOMI are following 4 lines\n",
        "  X_train_sort = np.sort(X_train_norm_1, axis=1,)\n",
        "  X_test_sort = np.sort(X_test_norm_1, axis=1)\n",
        "  X_train_norm = X_train_sort/np.max(abs(X_train_sort), axis = 1)[:,None]\n",
        "  X_test_norm = X_test_sort/np.max(abs(X_test_sort), axis = 1)[:,None]\n",
        "\n",
        "\n",
        "\n",
        "  y_train = to_categorical(y_train)\n",
        "  y_test = to_categorical(y_test)\n",
        "\n",
        "  create_train_evaluate_nn_model(X_train_norm, y_train, X_test_norm, y_test)\n",
        "\n",
        "  #create_train_evaluate_svm_model(X_train_norm, y_train, X_test_norm, y_test)\n",
        "\n",
        "  #create_train_evaluate_knn_model(X_train_norm, y_train, X_test_norm, y_test)\n",
        "\n",
        "  #create_train_evaluate_dt_model(X_train_norm, y_train, X_test_norm, y_test)\n",
        "\n",
        "  k_fold_iteration = k_fold_iteration + 1\n"
      ],
      "metadata": {
        "id": "gosAu4fT30lv"
      },
      "execution_count": null,
      "outputs": []
    }
  ],
  "metadata": {
    "colab": {
      "provenance": []
    },
    "kernelspec": {
      "display_name": "Python 3",
      "name": "python3"
    },
    "language_info": {
      "name": "python"
    }
  },
  "nbformat": 4,
  "nbformat_minor": 0
}